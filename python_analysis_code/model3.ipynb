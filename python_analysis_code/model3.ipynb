{
 "cells": [
  {
   "cell_type": "code",
   "execution_count": 6,
   "id": "16ae4cb5",
   "metadata": {},
   "outputs": [],
   "source": [
    "import pandas as pd\n",
    "import numpy as np\n",
    "import seaborn as sns\n",
    "import matplotlib.pyplot as plt\n",
    "import joblib\n",
    "\n",
    "from sklearn.model_selection import train_test_split\n",
    "from sklearn.preprocessing import StandardScaler\n",
    "from sklearn.linear_model import LogisticRegression\n",
    "from sklearn.ensemble import RandomForestClassifier, StackingClassifier\n",
    "from xgboost import XGBClassifier\n",
    "from sklearn.metrics import accuracy_score, classification_report,confusion_matrix"
   ]
  },
  {
   "cell_type": "code",
   "execution_count": 3,
   "id": "52eaac97",
   "metadata": {},
   "outputs": [
    {
     "name": "stdout",
     "output_type": "stream",
     "text": [
      "Feature engineering and scaling complete.\n",
      "New feature names: ['IQ', 'CGPA', 'Internship_Experience', 'Projects_Completed', 'Communication_Skills', 'Academic_Score', 'Practical_Score', 'IQ_x_CGPA']\n"
     ]
    }
   ],
   "source": [
    "# Load the dataset\n",
    "df = pd.read_csv('college_student_placement_dataset.csv')\n",
    "\n",
    "# --- Data Cleaning ---\n",
    "df.drop_duplicates(inplace=True)\n",
    "df['Internship_Experience'] = df['Internship_Experience'].map({'Yes': 1, 'No': 0})\n",
    "df['Placement'] = df['Placement'].map({'Yes': 1, 'No': 0})\n",
    "\n",
    "# 1. Create a combined academic score\n",
    "df['Academic_Score'] = (df['CGPA'] * 0.6) + (df['Prev_Sem_Result'] * 0.4)\n",
    "\n",
    "# 2. Create a combined practical skills score (giving more weight to internships)\n",
    "df['Practical_Score'] = (df['Internship_Experience'] * 3) + df['Projects_Completed']\n",
    "\n",
    "# 3. Create an interaction term\n",
    "df['IQ_x_CGPA'] = df['IQ'] * df['CGPA']\n",
    "\n",
    "# --- Feature Selection (using our new features) ---\n",
    "features = [\n",
    "    'IQ', \n",
    "    'CGPA', \n",
    "    'Internship_Experience', \n",
    "    'Projects_Completed', \n",
    "    'Communication_Skills',\n",
    "    'Academic_Score',       # New Feature\n",
    "    'Practical_Score',      # New Feature\n",
    "    'IQ_x_CGPA'             # New Feature\n",
    "]\n",
    "target = 'Placement'\n",
    "\n",
    "X = df[features]\n",
    "y = df[target]\n",
    "\n",
    "# --- Train-Test Split ---\n",
    "X_train, X_test, y_train, y_test = train_test_split(X, y, test_size=0.2, random_state=42, stratify=y)\n",
    "\n",
    "# --- Feature Scaling ---\n",
    "scaler = StandardScaler()\n",
    "X_train_scaled = scaler.fit_transform(X_train)\n",
    "X_test_scaled = scaler.transform(X_test)\n",
    "\n",
    "print(\"Feature engineering and scaling complete.\")\n",
    "print(f\"New feature names: {features}\")"
   ]
  },
  {
   "cell_type": "code",
   "execution_count": 4,
   "id": "8b521416",
   "metadata": {},
   "outputs": [
    {
     "name": "stdout",
     "output_type": "stream",
     "text": [
      "Training the Stacking Ensemble Model...\n"
     ]
    },
    {
     "name": "stderr",
     "output_type": "stream",
     "text": [
      "d:\\Placemennt_analysis_pridiction\\env\\Lib\\site-packages\\xgboost\\training.py:183: UserWarning: [15:55:38] WARNING: C:\\actions-runner\\_work\\xgboost\\xgboost\\src\\learner.cc:738: \n",
      "Parameters: { \"use_label_encoder\" } are not used.\n",
      "\n",
      "  bst.update(dtrain, iteration=i, fobj=obj)\n",
      "d:\\Placemennt_analysis_pridiction\\env\\Lib\\site-packages\\xgboost\\training.py:183: UserWarning: [15:55:43] WARNING: C:\\actions-runner\\_work\\xgboost\\xgboost\\src\\learner.cc:738: \n",
      "Parameters: { \"use_label_encoder\" } are not used.\n",
      "\n",
      "  bst.update(dtrain, iteration=i, fobj=obj)\n",
      "d:\\Placemennt_analysis_pridiction\\env\\Lib\\site-packages\\xgboost\\training.py:183: UserWarning: [15:55:43] WARNING: C:\\actions-runner\\_work\\xgboost\\xgboost\\src\\learner.cc:738: \n",
      "Parameters: { \"use_label_encoder\" } are not used.\n",
      "\n",
      "  bst.update(dtrain, iteration=i, fobj=obj)\n",
      "d:\\Placemennt_analysis_pridiction\\env\\Lib\\site-packages\\xgboost\\training.py:183: UserWarning: [15:55:43] WARNING: C:\\actions-runner\\_work\\xgboost\\xgboost\\src\\learner.cc:738: \n",
      "Parameters: { \"use_label_encoder\" } are not used.\n",
      "\n",
      "  bst.update(dtrain, iteration=i, fobj=obj)\n"
     ]
    },
    {
     "name": "stdout",
     "output_type": "stream",
     "text": [
      "Model training complete!\n"
     ]
    },
    {
     "name": "stderr",
     "output_type": "stream",
     "text": [
      "d:\\Placemennt_analysis_pridiction\\env\\Lib\\site-packages\\xgboost\\training.py:183: UserWarning: [15:55:43] WARNING: C:\\actions-runner\\_work\\xgboost\\xgboost\\src\\learner.cc:738: \n",
      "Parameters: { \"use_label_encoder\" } are not used.\n",
      "\n",
      "  bst.update(dtrain, iteration=i, fobj=obj)\n",
      "d:\\Placemennt_analysis_pridiction\\env\\Lib\\site-packages\\xgboost\\training.py:183: UserWarning: [15:55:43] WARNING: C:\\actions-runner\\_work\\xgboost\\xgboost\\src\\learner.cc:738: \n",
      "Parameters: { \"use_label_encoder\" } are not used.\n",
      "\n",
      "  bst.update(dtrain, iteration=i, fobj=obj)\n"
     ]
    }
   ],
   "source": [
    "# Define the base models (estimators)\n",
    "# These models have different strengths and will provide diverse \"opinions\"\n",
    "base_estimators = [\n",
    "    ('rf', RandomForestClassifier(n_estimators=150, max_depth=20, min_samples_split=5, min_samples_leaf=2, random_state=42)),\n",
    "    ('xgb', XGBClassifier(n_estimators=100, max_depth=5, learning_rate=0.1, use_label_encoder=False, eval_metric='logloss', random_state=42)),\n",
    "]\n",
    "\n",
    "# Define the meta-model (final estimator)\n",
    "# This model's job is to take the predictions from the base models and make the final decision.\n",
    "meta_model = LogisticRegression(max_iter=1000)\n",
    "\n",
    "# Create the Stacking Classifier\n",
    "# The 'passthrough=True' argument means the original features will ALSO be passed to the meta-model,\n",
    "# along with the predictions of the base models. This often improves performance.\n",
    "stacking_model = StackingClassifier(\n",
    "    estimators=base_estimators,\n",
    "    final_estimator=meta_model,\n",
    "    passthrough=True,\n",
    "    cv=5  # Use cross-validation for the base models\n",
    ")\n",
    "\n",
    "# Train the stacking model\n",
    "print(\"Training the Stacking Ensemble Model...\")\n",
    "stacking_model.fit(X_train_scaled, y_train)\n",
    "print(\"Model training complete!\")"
   ]
  },
  {
   "cell_type": "code",
   "execution_count": 7,
   "id": "cfa8e837",
   "metadata": {},
   "outputs": [
    {
     "name": "stdout",
     "output_type": "stream",
     "text": [
      "Final Stacking Model Accuracy: 100.00%\n",
      "\n",
      "Classification Report:\n",
      "              precision    recall  f1-score   support\n",
      "\n",
      "  Not Placed       1.00      1.00      1.00      1668\n",
      "      Placed       1.00      1.00      1.00       332\n",
      "\n",
      "    accuracy                           1.00      2000\n",
      "   macro avg       1.00      1.00      1.00      2000\n",
      "weighted avg       1.00      1.00      1.00      2000\n",
      "\n"
     ]
    },
    {
     "data": {
      "image/png": "[encoded data removed]",
      "text/plain": [
       "<Figure size 800x600 with 2 Axes>"
      ]
     },
     "metadata": {},
     "output_type": "display_data"
    }
   ],
   "source": [
    "# Cell 4: Evaluate the Stacking Model\n",
    "# Make predictions on the hold-out test set\n",
    "y_pred = stacking_model.predict(X_test_scaled)\n",
    "\n",
    "# Calculate accuracy\n",
    "accuracy = accuracy_score(y_test, y_pred)\n",
    "print(f\"Final Stacking Model Accuracy: {accuracy * 100:.2f}%\")\n",
    "\n",
    "# Print a detailed classification report\n",
    "print(\"\\nClassification Report:\")\n",
    "print(classification_report(y_test, y_pred, target_names=['Not Placed', 'Placed']))\n",
    "\n",
    "# Visualize the confusion matrix\n",
    "cm = confusion_matrix(y_test, y_pred)\n",
    "plt.figure(figsize=(8, 6))\n",
    "sns.heatmap(cm, annot=True, fmt='d', cmap='Purples', xticklabels=['Not Placed', 'Placed'], yticklabels=['Not Placed', 'Placed'])\n",
    "plt.xlabel('Predicted')\n",
    "plt.ylabel('Actual')\n",
    "plt.title('Final Stacking Model Confusion Matrix')\n",
    "plt.show()"
   ]
  },
  {
   "cell_type": "code",
   "execution_count": 8,
   "id": "8fbb0128",
   "metadata": {},
   "outputs": [
    {
     "name": "stdout",
     "output_type": "stream",
     "text": [
      "Optimized stacking model saved as 'placement_model_stacked.joblib'\n",
      "Scaler for engineered features saved as 'scaler_engineered.joblib'\n",
      "Feature list saved as 'feature_list.joblib'\n"
     ]
    }
   ],
   "source": [
    "# Cell 5: Save the Stacking Model and the new Scaler\n",
    "joblib.dump(stacking_model, 'placement_model_stacked.joblib')\n",
    "joblib.dump(scaler, 'scaler_engineered.joblib')\n",
    "joblib.dump(features, 'feature_list.joblib') # Also save the feature list to ensure correct order\n",
    "\n",
    "print(\"Optimized stacking model saved as 'placement_model_stacked.joblib'\")\n",
    "print(\"Scaler for engineered features saved as 'scaler_engineered.joblib'\")\n",
    "print(\"Feature list saved as 'feature_list.joblib'\")"
   ]
  },
  {
   "cell_type": "code",
   "execution_count": null,
   "id": "8e64480a",
   "metadata": {},
   "outputs": [],
   "source": []
  }
 ],
 "metadata": {
  "kernelspec": {
   "display_name": "env",
   "language": "python",
   "name": "python3"
  },
  "language_info": {
   "codemirror_mode": {
    "name": "ipython",
    "version": 3
   },
   "file_extension": ".py",
   "mimetype": "text/x-python",
   "name": "python",
   "nbconvert_exporter": "python",
   "pygments_lexer": "ipython3",
   "version": "3.13.2"
  }
 },
 "nbformat": 4,
 "nbformat_minor": 5
}
