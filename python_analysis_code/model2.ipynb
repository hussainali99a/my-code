{
 "cells": [
  {
   "cell_type": "code",
   "execution_count": 2,
   "id": "f1f934e5",
   "metadata": {},
   "outputs": [],
   "source": [
    "import pandas as pd\n",
    "import numpy as np\n",
    "import seaborn as sns\n",
    "import matplotlib.pyplot as plt\n",
    "import joblib\n",
    "\n",
    "# Scikit-learn imports for preprocessing, modeling, and tuning\n",
    "from sklearn.model_selection import train_test_split, RandomizedSearchCV\n",
    "from sklearn.preprocessing import StandardScaler\n",
    "from sklearn.linear_model import LogisticRegression\n",
    "from sklearn.ensemble import RandomForestClassifier\n",
    "from sklearn.svm import SVC\n",
    "from xgboost import XGBClassifier\n",
    "from sklearn.metrics import accuracy_score, classification_report, confusion_matrix"
   ]
  },
  {
   "cell_type": "code",
   "execution_count": 3,
   "id": "ae1b4645",
   "metadata": {},
   "outputs": [
    {
     "name": "stdout",
     "output_type": "stream",
     "text": [
      "Data has been successfully split and scaled.\n"
     ]
    }
   ],
   "source": [
    "# Load the dataset\n",
    "df = pd.read_csv('college_student_placement_dataset.csv')\n",
    "\n",
    "# --- Data Cleaning ---\n",
    "df.drop_duplicates(inplace=True)\n",
    "df['Internship_Experience'] = df['Internship_Experience'].map({'Yes': 1, 'No': 0})\n",
    "df['Placement'] = df['Placement'].map({'Yes': 1, 'No': 0})\n",
    "\n",
    "# --- Feature Selection ---\n",
    "features = ['IQ', 'CGPA', 'Internship_Experience', 'Projects_Completed', 'Communication_Skills']\n",
    "target = 'Placement'\n",
    "\n",
    "X = df[features]\n",
    "y = df[target]\n",
    "\n",
    "# --- Train-Test Split ---\n",
    "X_train, X_test, y_train, y_test = train_test_split(X, y, test_size=0.2, random_state=42)\n",
    "\n",
    "# --- Feature Scaling ---\n",
    "scaler = StandardScaler()\n",
    "X_train_scaled = scaler.fit_transform(X_train)\n",
    "X_test_scaled = scaler.transform(X_test)\n",
    "\n",
    "print(\"Data has been successfully split and scaled.\")"
   ]
  },
  {
   "cell_type": "code",
   "execution_count": 4,
   "id": "6ff2aaa4",
   "metadata": {},
   "outputs": [
    {
     "name": "stdout",
     "output_type": "stream",
     "text": [
      "--- Tuning LogisticRegression ---\n",
      "Fitting 5 folds for each of 5 candidates, totalling 25 fits\n"
     ]
    },
    {
     "name": "stderr",
     "output_type": "stream",
     "text": [
      "d:\\Placemennt_analysis_pridiction\\env\\Lib\\site-packages\\sklearn\\model_selection\\_search.py:317: UserWarning: The total space of parameters 5 is smaller than n_iter=50. Running 5 iterations. For exhaustive searches, use GridSearchCV.\n",
      "  warnings.warn(\n"
     ]
    },
    {
     "name": "stdout",
     "output_type": "stream",
     "text": [
      "Best Parameters for LogisticRegression: {'C': 1}\n",
      "------------------------------\n",
      "--- Tuning RandomForestClassifier ---\n",
      "Fitting 5 folds for each of 50 candidates, totalling 250 fits\n",
      "Best Parameters for RandomForestClassifier: {'n_estimators': 100, 'min_samples_split': 10, 'min_samples_leaf': 1, 'max_depth': 30}\n",
      "------------------------------\n",
      "--- Tuning XGBClassifier ---\n",
      "Fitting 5 folds for each of 50 candidates, totalling 250 fits\n",
      "Best Parameters for XGBClassifier: {'subsample': 0.7, 'n_estimators': 100, 'max_depth': 10, 'learning_rate': 0.01}\n",
      "------------------------------\n"
     ]
    },
    {
     "name": "stderr",
     "output_type": "stream",
     "text": [
      "d:\\Placemennt_analysis_pridiction\\env\\Lib\\site-packages\\xgboost\\training.py:183: UserWarning: [15:38:19] WARNING: C:\\actions-runner\\_work\\xgboost\\xgboost\\src\\learner.cc:738: \n",
      "Parameters: { \"use_label_encoder\" } are not used.\n",
      "\n",
      "  bst.update(dtrain, iteration=i, fobj=obj)\n"
     ]
    }
   ],
   "source": [
    "# Define Models and Parameter Grids for Tuning\n",
    "models = {\n",
    "    'LogisticRegression': LogisticRegression(max_iter=1000),\n",
    "    'RandomForestClassifier': RandomForestClassifier(random_state=42),\n",
    "    'XGBClassifier': XGBClassifier(random_state=42, use_label_encoder=False, eval_metric='logloss')\n",
    "}\n",
    "\n",
    "# Define the hyperparameter search space for each model\n",
    "params = {\n",
    "    'LogisticRegression': {\n",
    "        'C': [0.01, 0.1, 1, 10, 100]\n",
    "    },\n",
    "    'RandomForestClassifier': {\n",
    "        'n_estimators': [50, 100, 200, 300],\n",
    "        'max_depth': [None, 10, 20, 30],\n",
    "        'min_samples_split': [2, 5, 10],\n",
    "        'min_samples_leaf': [1, 2, 4]\n",
    "    },\n",
    "    'XGBClassifier': {\n",
    "        'n_estimators': [50, 100, 200],\n",
    "        'max_depth': [3, 5, 7, 10],\n",
    "        'learning_rate': [0.01, 0.1, 0.2],\n",
    "        'subsample': [0.7, 0.8, 0.9]\n",
    "    }\n",
    "}\n",
    "\n",
    "# --- Run the Tuning Process ---\n",
    "best_models = {}\n",
    "for model_name in models:\n",
    "    print(f\"--- Tuning {model_name} ---\")\n",
    "    \n",
    "    # Initialize RandomizedSearchCV\n",
    "    # n_iter=50 means it will try 50 different combinations from the param grid\n",
    "    # cv=5 means it will use 5-fold cross-validation for robust evaluation\n",
    "    random_search = RandomizedSearchCV(models[model_name], \n",
    "                                       param_distributions=params[model_name], \n",
    "                                       n_iter=50, \n",
    "                                       cv=5, \n",
    "                                       random_state=42, \n",
    "                                       n_jobs=-1, # Use all available CPU cores\n",
    "                                       verbose=1)\n",
    "    \n",
    "    # Fit the search to the scaled training data\n",
    "    random_search.fit(X_train_scaled, y_train)\n",
    "    \n",
    "    # Store the best estimator found\n",
    "    best_models[model_name] = random_search.best_estimator_\n",
    "    \n",
    "    print(f\"Best Parameters for {model_name}: {random_search.best_params_}\")\n",
    "    print(\"-\" * 30)"
   ]
  },
  {
   "cell_type": "code",
   "execution_count": 5,
   "id": "f093285c",
   "metadata": {},
   "outputs": [
    {
     "name": "stdout",
     "output_type": "stream",
     "text": [
      "--- Evaluation for Tuned LogisticRegression ---\n",
      "Accuracy: 90.30%\n",
      "              precision    recall  f1-score   support\n",
      "\n",
      "  Not Placed       0.93      0.96      0.94      1674\n",
      "      Placed       0.75      0.61      0.67       326\n",
      "\n",
      "    accuracy                           0.90      2000\n",
      "   macro avg       0.84      0.78      0.81      2000\n",
      "weighted avg       0.90      0.90      0.90      2000\n",
      "\n",
      "\n",
      "\n",
      "--- Evaluation for Tuned RandomForestClassifier ---\n",
      "Accuracy: 100.00%\n",
      "              precision    recall  f1-score   support\n",
      "\n",
      "  Not Placed       1.00      1.00      1.00      1674\n",
      "      Placed       1.00      1.00      1.00       326\n",
      "\n",
      "    accuracy                           1.00      2000\n",
      "   macro avg       1.00      1.00      1.00      2000\n",
      "weighted avg       1.00      1.00      1.00      2000\n",
      "\n",
      "\n",
      "\n",
      "--- Evaluation for Tuned XGBClassifier ---\n",
      "Accuracy: 100.00%\n",
      "              precision    recall  f1-score   support\n",
      "\n",
      "  Not Placed       1.00      1.00      1.00      1674\n",
      "      Placed       1.00      1.00      1.00       326\n",
      "\n",
      "    accuracy                           1.00      2000\n",
      "   macro avg       1.00      1.00      1.00      2000\n",
      "weighted avg       1.00      1.00      1.00      2000\n",
      "\n",
      "\n",
      "\n"
     ]
    }
   ],
   "source": [
    "# Evaluate and Compare the Tuned Models\n",
    "for model_name, model in best_models.items():\n",
    "    print(f\"--- Evaluation for Tuned {model_name} ---\")\n",
    "    y_pred = model.predict(X_test_scaled)\n",
    "    accuracy = accuracy_score(y_test, y_pred)\n",
    "    print(f\"Accuracy: {accuracy * 100:.2f}%\")\n",
    "    print(classification_report(y_test, y_pred, target_names=['Not Placed', 'Placed']))\n",
    "    print(\"\\n\")"
   ]
  },
  {
   "cell_type": "code",
   "execution_count": 6,
   "id": "5e8829e6",
   "metadata": {},
   "outputs": [
    {
     "data": {
      "image/png": "[encoded data removed]",
      "text/plain": [
       "<Figure size 800x600 with 2 Axes>"
      ]
     },
     "metadata": {},
     "output_type": "display_data"
    },
    {
     "name": "stderr",
     "output_type": "stream",
     "text": [
      "C:\\Users\\mustafa\\AppData\\Local\\Temp\\ipykernel_33736\\2843703991.py:21: FutureWarning: \n",
      "\n",
      "Passing `palette` without assigning `hue` is deprecated and will be removed in v0.14.0. Assign the `y` variable to `hue` and set `legend=False` for the same effect.\n",
      "\n",
      "  sns.barplot(x='importance', y='feature', data=feature_importance_df, palette='viridis')\n"
     ]
    },
    {
     "data": {
      "image/png": "[encoded data removed]",
      "text/plain": [
       "<Figure size 1000x600 with 1 Axes>"
      ]
     },
     "metadata": {},
     "output_type": "display_data"
    }
   ],
   "source": [
    "# Final Model Selection and Feature Importance\n",
    "final_model = best_models['RandomForestClassifier']\n",
    "\n",
    "# Visualize the confusion matrix for our final, tuned model\n",
    "y_pred_final = final_model.predict(X_test_scaled)\n",
    "cm = confusion_matrix(y_test, y_pred_final)\n",
    "\n",
    "plt.figure(figsize=(8, 6))\n",
    "sns.heatmap(cm, annot=True, fmt='d', cmap='Greens', xticklabels=['Not Placed', 'Placed'], yticklabels=['Not Placed', 'Placed'])\n",
    "plt.xlabel('Predicted')\n",
    "plt.ylabel('Actual')\n",
    "plt.title('Confusion Matrix for Tuned Random Forest Model')\n",
    "plt.show()\n",
    "\n",
    "# --- Feature Importance ---\n",
    "# See which features the model found most important\n",
    "importances = final_model.feature_importances_\n",
    "feature_importance_df = pd.DataFrame({'feature': features, 'importance': importances}).sort_values('importance', ascending=False)\n",
    "\n",
    "plt.figure(figsize=(10, 6))\n",
    "sns.barplot(x='importance', y='feature', data=feature_importance_df, palette='viridis')\n",
    "plt.title('Feature Importance for Final Model')\n",
    "plt.show()"
   ]
  },
  {
   "cell_type": "code",
   "execution_count": 7,
   "id": "ddce83ad",
   "metadata": {},
   "outputs": [
    {
     "name": "stdout",
     "output_type": "stream",
     "text": [
      "Optimized model saved as 'placement_model2_tuned.joblib'\n",
      "Scaler saved as 'scaler.joblib'\n"
     ]
    }
   ],
   "source": [
    "# Save the Final Model and the Scaler\n",
    "joblib.dump(final_model, 'placement_model_tuned2.joblib')\n",
    "joblib.dump(scaler, 'scaler.joblib')\n",
    "\n",
    "print(\"Optimized model saved as 'placement_model2_tuned.joblib'\")\n",
    "print(\"Scaler saved as 'scaler.joblib'\")"
   ]
  },
  {
   "cell_type": "code",
   "execution_count": null,
   "id": "87f1e820",
   "metadata": {},
   "outputs": [],
   "source": []
  }
 ],
 "metadata": {
  "kernelspec": {
   "display_name": "env",
   "language": "python",
   "name": "python3"
  },
  "language_info": {
   "codemirror_mode": {
    "name": "ipython",
    "version": 3
   },
   "file_extension": ".py",
   "mimetype": "text/x-python",
   "name": "python",
   "nbconvert_exporter": "python",
   "pygments_lexer": "ipython3",
   "version": "3.13.2"
  }
 },
 "nbformat": 4,
 "nbformat_minor": 5
}
